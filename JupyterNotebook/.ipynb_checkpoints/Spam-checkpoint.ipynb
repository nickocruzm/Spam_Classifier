{
 "cells": [
  {
   "cell_type": "code",
   "execution_count": 21,
   "metadata": {},
   "outputs": [],
   "source": [
    "import nltk\n",
    "import pandas as pd\n",
    "import seaborn as sns\n",
    "import matplotlib.pyplot as plt\n",
    "import string\n",
    "import numpy as np\n",
    "\n",
    "from nltk.corpus import stopwords\n",
    "\n",
    "from sklearn.feature_extraction.text import TfidfTransformer\n",
    "from sklearn.feature_extraction.text import CountVectorizer\n",
    "from sklearn.naive_bayes import MultinomialNB\n",
    "from sklearn.metrics import classification_report\n",
    "from sklearn.model_selection import train_test_split\n",
    "from sklearn.pipeline import Pipeline"
   ]
  },
  {
   "cell_type": "code",
   "execution_count": 22,
   "metadata": {},
   "outputs": [],
   "source": [
    "%matplotlib inline"
   ]
  },
  {
   "cell_type": "code",
   "execution_count": 23,
   "metadata": {},
   "outputs": [
    {
     "name": "stdout",
     "output_type": "stream",
     "text": [
      "HEAD:\n",
      "\t\n",
      "  label                                            message\n",
      "0   ham  Go until jurong point, crazy.. Available only ...\n",
      "1   ham                      Ok lar... Joking wif u oni...\n",
      "2  spam  Free entry in 2 a wkly comp to win FA Cup fina...\n",
      "3   ham  U dun say so early hor... U c already then say...\n",
      "4   ham  Nah I don't think he goes to usf, he lives aro...\n",
      "\n",
      " DESCRIBE:\n",
      "\t\n",
      "       label                 message\n",
      "count   5572                    5572\n",
      "unique     2                    5169\n",
      "top      ham  Sorry, I'll call later\n",
      "freq    4825                      30\n",
      "\n",
      " GROUPED BY LABEL: \n",
      "\t\n",
      "      message                                                               \n",
      "        count unique                                                top freq\n",
      "label                                                                       \n",
      "ham      4825   4516                             Sorry, I'll call later   30\n",
      "spam      747    653  Please call our customer service representativ...    4\n"
     ]
    }
   ],
   "source": [
    "messages = pd.read_csv('SMSSpamCollection',sep='\\t',names=['label','message'])\n",
    "\n",
    "print(\"HEAD:\\n\\t\")\n",
    "print(messages.head())\n",
    "\n",
    "print(\"\\n DESCRIBE:\\n\\t\")\n",
    "print(messages.describe())\n",
    "\n",
    "print(\"\\n GROUPED BY LABEL: \\n\\t\")\n",
    "print(messages.groupby('label').describe())"
   ]
  },
  {
   "cell_type": "code",
   "execution_count": 24,
   "metadata": {},
   "outputs": [
    {
     "data": {
      "image/png": "[encoded data removed]",
      "text/plain": [
       "<Figure size 1200x400 with 2 Axes>"
      ]
     },
     "metadata": {},
     "output_type": "display_data"
    }
   ],
   "source": [
    "messages['length'] = messages['message'].apply(len)\n",
    "histogram = messages.hist(column='length', by='label', bins=35,figsize=(12,4))\n",
    "\n",
    "min_length = messages['length'].min()\n",
    "max_length = messages['length'].max()\n",
    "\n",
    "colors = ['skyblue', 'lightgreen']\n",
    "for ax,color in zip(histogram.flatten(), colors):\n",
    "    ax.set_xlabel(\"Message Length\")\n",
    "    ax.set_ylabel(\"Frequency\")\n",
    "    # ax.set_xlim(min_length, max_length)\n",
    "    #ax.set_xticks(np.arange(0, max_length, 50))\n",
    "    for patch in ax.patches:\n",
    "        patch.set_facecolor(color)\n",
    "        patch.set_edgecolor('black')\n",
    "    \n",
    "    histogram[0].set_xticks(np.arange(0, messages['length'].max(), 50))\n"
   ]
  },
  {
   "cell_type": "code",
   "execution_count": 25,
   "metadata": {},
   "outputs": [],
   "source": [
    "def process_txt(mess):\n",
    "    \"\"\"\n",
    "        Takes in a string of text, then performs the following:\n",
    "        1. Remove all punctuation\n",
    "        2. Remove all stopwords\n",
    "        3. Returns a list of the cleaned text\n",
    "    \"\"\"\n",
    "    \n",
    "    # Check characters to see if they are in punctuation\n",
    "    nopunc = [char for char in mess if char not in string.punctuation]\n",
    "\n",
    "    # Join the characters again to form the string.\n",
    "    nopunc = ''.join(nopunc)\n",
    "    \n",
    "    # Now just remove any stopwords\n",
    "    return [word for word in nopunc.split() if word.lower() not in stopwords.words('english')]"
   ]
  },
  {
   "cell_type": "markdown",
   "metadata": {},
   "source": [
    "`CountVectorizer`: Used to convert a collection of text documents to a matrix of tokens. \n",
    "        \n",
    "        I WANT TO KNOW WHY IT IS CALLED \"COUNT\"VECTORIZER. WHAT IS BEING COUNTED?\n",
    "\n",
    "`.fit()`\n",
    "         method processes the input text, identifies all unique words, and creates a vocabulary dictionary that maps each word to a unique index. This dictionary is then used to transform the text data into a numerical format that machine learning models can work with.\n",
    "\n",
    "## What does \"fit\" mean?\n",
    "\n",
    "In the context of machine learning and data processing, the term \"fit\" refers to the process of learning or training on the data. Specifically, it means that the model or algorithm is being trained on the input data to understand its structure, patterns, or characteristics.\n"
   ]
  },
  {
   "cell_type": "markdown",
   "metadata": {},
   "source": [
    "### Analogy\n",
    "\n",
    "- Imagine you have a book and you're making a list of all the unique words in the book. When you’re done, you have a list (vocabulary) that you can use to check which words are in the book and how often they appear.\n",
    "\n"
   ]
  },
  {
   "cell_type": "markdown",
   "metadata": {},
   "source": [
    "This code processes text data, builds a vocabulary of unique tokens using the defined analyzer 'process_txt', and then prints the total number of tokens and ouputs 10 item pairs in vocabulary."
   ]
  },
  {
   "cell_type": "code",
   "execution_count": 26,
   "metadata": {},
   "outputs": [
    {
     "name": "stdout",
     "output_type": "stream",
     "text": [
      "vocabulary size:  11425 \n",
      "\t\n",
      "\tGo : 2060\n",
      "\tjurong : 7555\n",
      "\tpoint : 8917\n",
      "\tcrazy : 5769\n",
      "\tAvailable : 1110\n",
      "\tbugis : 5218\n",
      "\tn : 8336\n",
      "\tgreat : 6937\n",
      "\tworld : 11163\n",
      "\tla : 7668\n"
     ]
    }
   ],
   "source": [
    "\n",
    "# bag of words = bow\n",
    "bow_transformer = CountVectorizer(analyzer=process_txt).fit(messages['message'])\n",
    "\n",
    "# .vocabulary_ is a dictionary {key: words, val: feature index}\n",
    "print(f\"vocabulary size:  {len(bow_transformer.vocabulary_)} \\n\\t\")\n",
    "\n",
    "# show the first 10 items in vocabulary_\n",
    "count = 0\n",
    "for k,v in bow_transformer.vocabulary_.items():\n",
    "    if(count == 10): break\n",
    "    print(f\"\\t{k} : {v}\")\n",
    "    count += 1\n"
   ]
  },
  {
   "cell_type": "markdown",
   "metadata": {},
   "source": [
    "### Code Below:\n",
    "\n",
    "Produces a Sparse Matrix.\n",
    "\n",
    "`(document_index, word_index) freq`\n",
    "\n",
    "\n"
   ]
  },
  {
   "cell_type": "code",
   "execution_count": 27,
   "metadata": {},
   "outputs": [
    {
     "name": "stdout",
     "output_type": "stream",
     "text": [
      "Shape of Sparse Matrix:  (5572, 11425)\n",
      "Amount of Non-Zero occurences:  50548\n"
     ]
    }
   ],
   "source": [
    "messages_bow = bow_transformer.transform(messages['message'])\n",
    "\n",
    "print('Shape of Sparse Matrix: ', messages_bow.shape)\n",
    "print('Amount of Non-Zero occurences: ', messages_bow.nnz)"
   ]
  },
  {
   "cell_type": "markdown",
   "metadata": {},
   "source": [
    "\n",
    "This code is used to understand how much of the matrix is filled with actual data (non-zero values) as opposed to zeros.\n",
    "\n",
    "## Sparsity \n",
    "typically refers to the proportion of zero elements in a matrix. The higher the sparsity, the more zeros the matrix contains.\n",
    "\n",
    "In this case, the code calculates the percentage of non-zero elements, which is technically the matrix's \"density.\" Therefore, if this value is high, the matrix is less sparse (contains more non-zero values); if it's low, the matrix is more sparse."
   ]
  },
  {
   "cell_type": "code",
   "execution_count": 28,
   "metadata": {},
   "outputs": [
    {
     "name": "stdout",
     "output_type": "stream",
     "text": [
      "sparsity: 0\n"
     ]
    }
   ],
   "source": [
    "sparsity = (100.0 * messages_bow.nnz / (messages_bow.shape[0] * messages_bow.shape[1]))\n",
    "print('sparsity: {}'.format(round(sparsity)))"
   ]
  },
  {
   "cell_type": "markdown",
   "metadata": {},
   "source": [
    "## Term Frequency - Inverse Document Frequency (TF - IDF)\n",
    "\n",
    "### Term Frequency (TF):\n",
    "\n",
    "- This measures how frequently a term appears in a document relative to the total number of terms in that document\n",
    "    \n",
    "### Inverse Document Frequency (IDF):\n",
    "- This measures how important a word is by looking at how many documents contain the word.\n",
    "- Words that appear in many documents get lower IDF values (common words like \"the,\" \"and,\" etc.), while words that appear in fewer documents get higher IDF values.\n",
    "    \n",
    "### TF-IDF:\n",
    "- The TF-IDF score is the product of TF and IDF. It gives a high score to words that are frequent in a document but not in others, making them more relevant for identifying the content of that document."
   ]
  },
  {
   "cell_type": "code",
   "execution_count": 29,
   "metadata": {},
   "outputs": [],
   "source": [
    "tfidf_transformer = TfidfTransformer().fit(messages_bow)"
   ]
  },
  {
   "cell_type": "markdown",
   "metadata": {},
   "source": [
    "\n",
    "`tfidf_tranformer.idf_[index]`: returns the `IDF value` of word found at index in `dictionay: vocabulary_`.\n",
    "\n",
    "The greater the `IDF value`, the more significat/rare the word.\n"
   ]
  },
  {
   "cell_type": "markdown",
   "metadata": {},
   "source": []
  },
  {
   "cell_type": "code",
   "execution_count": 30,
   "metadata": {},
   "outputs": [
    {
     "name": "stdout",
     "output_type": "stream",
     "text": [
      "u: 3.2800524267409408, university: 8.527076498901426\n",
      "u is a more common word found in the documents than university.\n"
     ]
    }
   ],
   "source": [
    "# finds the index of the token, 'u' in the vocabulary.\n",
    "index = bow_transformer.vocabulary_['u']\n",
    "idf_u = tfidf_transformer.idf_[index]\n",
    "\n",
    "index = bow_transformer.vocabulary_['university']\n",
    "idf_university = tfidf_transformer.idf_[index]\n",
    "\n",
    "best = max(idf_u,idf_university)\n",
    "\n",
    "if(best == idf_u):\n",
    "    x = 'u'\n",
    "    y = 'university'\n",
    "else:\n",
    "    x = 'university'\n",
    "    y = 'u'\n",
    "    \n",
    "    \n",
    "print(f\"u: {idf_u}, university: {idf_university}\")\n",
    "\n",
    "msg = f'{y} is a more common word found in the documents than {x}.'\n",
    "print(msg)\n",
    "\n"
   ]
  },
  {
   "cell_type": "code",
   "execution_count": 31,
   "metadata": {},
   "outputs": [
    {
     "name": "stdout",
     "output_type": "stream",
     "text": [
      "(5572, 11425)\n"
     ]
    }
   ],
   "source": [
    "messages_tfidf = tfidf_transformer.transform(messages_bow)\n",
    "print(messages_tfidf.shape)"
   ]
  },
  {
   "cell_type": "markdown",
   "metadata": {},
   "source": [
    "## Key Components:\n",
    "\n",
    "1.\tMultinomialNB():\n",
    "- This is an instance of the MultinomialNB class from the sklearn.naive_bayes module.\n",
    "- MultinomialNB is a type of Naive Bayes classifier that is particularly suited for classification with discrete features, such as word counts or term frequencies in text data.\n",
    "2.\t.fit(messages_tfidf, messages['label']):\n",
    "- The .fit() method trains the Naive Bayes model on the provided data.\n",
    "- messages_tfidf: This is the feature matrix where each row represents a message, and each column represents a term’s TF-IDF score in that message.\n",
    "- messages['label']: This is the target vector, which contains the labels for each message (e.g., “spam” or “ham”). These labels are what the model is trying to predict."
   ]
  },
  {
   "cell_type": "code",
   "execution_count": 32,
   "metadata": {},
   "outputs": [],
   "source": [
    "spam_detect_model = MultinomialNB().fit(messages_tfidf, messages['label'])"
   ]
  },
  {
   "cell_type": "markdown",
   "metadata": {},
   "source": [
    "## What the Code Does:\n",
    "\n",
    "- Model Initialization: MultinomialNB() initializes a Naive Bayes model.\n",
    "- Training the Model: .fit(messages_tfidf, messages['label']) trains this model on the data.\n",
    "- The model learns to associate the TF-IDF features (word importance scores) of each message with its corresponding label (“spam” or “ham”).\n",
    "- After training, the model can predict whether new messages are spam or ham based on their TF-IDF features."
   ]
  },
  {
   "cell_type": "markdown",
   "metadata": {},
   "source": [
    "## Why This is Important:\n",
    "\n",
    "- Spam Detection: This line of code is crucial in developing a spam detection system. The trained model can be used to automatically classify incoming messages as either spam or not spam based on the patterns it has learned during training.\n",
    "\n",
    "In summary, this code is creating and training a Naive Bayes classifier to detect spam by learning from a dataset of messages represented by their TF-IDF scores and corresponding labels."
   ]
  },
  {
   "cell_type": "code",
   "execution_count": 33,
   "metadata": {},
   "outputs": [
    {
     "name": "stdout",
     "output_type": "stream",
     "text": [
      "              precision    recall  f1-score   support\n",
      "\n",
      "         ham       0.98      1.00      0.99      4825\n",
      "        spam       1.00      0.85      0.92       747\n",
      "\n",
      "    accuracy                           0.98      5572\n",
      "   macro avg       0.99      0.92      0.95      5572\n",
      "weighted avg       0.98      0.98      0.98      5572\n",
      "\n"
     ]
    }
   ],
   "source": [
    "all_predictions = spam_detect_model.predict(messages_tfidf)\n",
    "print(classification_report(messages['label'], all_predictions))\n"
   ]
  },
  {
   "cell_type": "markdown",
   "metadata": {},
   "source": [
    "## Key Components:\n",
    "\n",
    "### train_test_split:\n",
    "\n",
    "- This function is imported from sklearn.model_selection.\n",
    "- It splits arrays or matrices into random train and test subsets. It’s used to divide the dataset into a training set and a testing set.\n",
    "\n",
    "### messages['message']:\n",
    "\n",
    "- This is the feature data, which contains the actual text messages.\n",
    "\n",
    "\n",
    "### messages['label']:\n",
    "\n",
    "- This is the target data, which contains the labels (e.g., “spam” or “ham”) associated with each message.\n",
    "- \n",
    "### test_size=0.2:\n",
    "\n",
    "- This parameter specifies the proportion of the dataset to include in the test split.\n",
    "- test_size=0.2 means 20% of the data will be used for testing, and the remaining 80% will be used for training.\n",
    "- \n",
    "### msg_train, msg_test, label_train, label_test:\n",
    "\n",
    "- The function returns four sets of data:\n",
    "- msg_train: The training set of messages (80% of the original messages).\n",
    "- msg_test: The testing set of messages (20% of the original messages).\n",
    "- label_train: The training set of labels corresponding to msg_train.\n",
    "- label_test: The testing set of labels corresponding to msg_test.\n",
    "- \n",
    "### print(len(msg_train), len(msg_test), len(msg_train) + len(msg_test)):\n",
    "\n",
    "- This prints the lengths of the training and testing sets, followed by the total number of messages (which should be the same as the original dataset size).\n"
   ]
  },
  {
   "cell_type": "code",
   "execution_count": 34,
   "metadata": {},
   "outputs": [
    {
     "name": "stdout",
     "output_type": "stream",
     "text": [
      "4457 1115 5572\n"
     ]
    }
   ],
   "source": [
    "msg_train, msg_test, label_train, label_test = \\\n",
    "train_test_split(messages['message'], messages['label'], test_size=0.2)\n",
    "print(len(msg_train), len(msg_test), len(msg_train) + len(msg_test))"
   ]
  },
  {
   "cell_type": "markdown",
   "metadata": {},
   "source": [
    "## What the Code Does:\n",
    "\n",
    "- Splitting the Data: The code splits the dataset into a training set and a testing set, with 80% of the data used for training the model and 20% reserved for evaluating the model’s performance.\n",
    "- Output: The print statement provides a quick check to ensure that the split was performed correctly by showing the number of items in the training and testing sets and confirming that their sum equals the total number of items in the original dataset."
   ]
  },
  {
   "cell_type": "markdown",
   "metadata": {},
   "source": [
    "## Why This is Important:\n",
    "\n",
    "- Model Evaluation: By splitting the data into training and testing sets, you can train the model on one subset (training) and evaluate its performance on another (testing) that the model hasn’t seen before. This helps to assess how well the model generalizes to new, unseen data.\n",
    "- Preventing Overfitting: Using a separate test set ensures that the model is not just memorizing the training data but is learning patterns that apply to new data as well.\n",
    "\n",
    "In summary, this code is setting up the data for training and testing by splitting it into two parts, which is a fundamental step in building a reliable machine-learning model."
   ]
  },
  {
   "cell_type": "markdown",
   "metadata": {},
   "source": [
    "# Data Pipeline"
   ]
  },
  {
   "cell_type": "markdown",
   "metadata": {},
   "source": [
    "## ('tfidf', TfidfTransformer()):\n",
    "\n",
    "- TfidfTransformer: This converts the integer counts from the previous step into TF-IDF scores. TF-IDF (Term Frequency-Inverse Document Frequency) scales the raw counts so that more common words are down-weighted, while rarer, more informative words are up-weighted.\n",
    "- \n",
    "- Purpose: This step refines the word counts by considering how important each word is in the context of the entire dataset, making the model more sensitive to the significance of words in different messages."
   ]
  },
  {
   "cell_type": "markdown",
   "metadata": {},
   "source": [
    "## ('classifier', MultinomialNB())\n",
    "\n",
    "- Purpose: This step trains a Naive Bayes model on the TF-IDF features generated in the previous step, allowing the model to learn patterns that distinguish different classes (e.g., spam vs. ham).\n"
   ]
  },
  {
   "cell_type": "code",
   "execution_count": 37,
   "metadata": {},
   "outputs": [],
   "source": [
    "pipeline = Pipeline([\n",
    "    ('bow', CountVectorizer(analyzer=process_txt)),  # strings to token integer counts\n",
    "    ('tfidf', TfidfTransformer()),  # integer counts to weighted TF-IDF scores\n",
    "    ('classifier', MultinomialNB()),  # train on TF-IDF vectors w/ Naive Bayes classifier\n",
    "])"
   ]
  },
  {
   "cell_type": "markdown",
   "metadata": {},
   "source": [
    "## What the Code Does:\n",
    "\n",
    "- End-to-End Process: The pipeline integrates multiple steps into a single object. When you fit the pipeline to your data, it will:\n",
    "\t- 1.\tConvert the text data into a bag-of-words representation using CountVectorizer.\n",
    "\t- 2.\tTransform those counts into TF-IDF scores using TfidfTransformer.\n",
    "\t- 3.\tTrain the Naive Bayes classifier on the TF-IDF scores.\n",
    "- Predicting with New Data: When you pass new data through the pipeline, it will automatically apply all these steps and output predictions.\n",
    "\n",
    "## Why This is Important:\n",
    "\n",
    "- Simplifies Workflow: The pipeline abstracts away the complexity of manually applying each transformation and then fitting the model, making the workflow more straightforward and less error-prone.\n",
    "- Consistency: It ensures that the same sequence of transformations is applied to both the training data and any new data you want to predict, maintaining consistency in the data processing steps."
   ]
  },
  {
   "cell_type": "code",
   "execution_count": 38,
   "metadata": {},
   "outputs": [
    {
     "data": {
      "text/html": [
       "<style>#sk-container-id-1 {color: black;background-color: white;}#sk-container-id-1 pre{padding: 0;}#sk-container-id-1 div.sk-toggleable {background-color: white;}#sk-container-id-1 label.sk-toggleable__label {cursor: pointer;display: block;width: 100%;margin-bottom: 0;padding: 0.3em;box-sizing: border-box;text-align: center;}#sk-container-id-1 label.sk-toggleable__label-arrow:before {content: \"▸\";float: left;margin-right: 0.25em;color: #696969;}#sk-container-id-1 label.sk-toggleable__label-arrow:hover:before {color: black;}#sk-container-id-1 div.sk-estimator:hover label.sk-toggleable__label-arrow:before {color: black;}#sk-container-id-1 div.sk-toggleable__content {max-height: 0;max-width: 0;overflow: hidden;text-align: left;background-color: #f0f8ff;}#sk-container-id-1 div.sk-toggleable__content pre {margin: 0.2em;color: black;border-radius: 0.25em;background-color: #f0f8ff;}#sk-container-id-1 input.sk-toggleable__control:checked~div.sk-toggleable__content {max-height: 200px;max-width: 100%;overflow: auto;}#sk-container-id-1 input.sk-toggleable__control:checked~label.sk-toggleable__label-arrow:before {content: \"▾\";}#sk-container-id-1 div.sk-estimator input.sk-toggleable__control:checked~label.sk-toggleable__label {background-color: #d4ebff;}#sk-container-id-1 div.sk-label input.sk-toggleable__control:checked~label.sk-toggleable__label {background-color: #d4ebff;}#sk-container-id-1 input.sk-hidden--visually {border: 0;clip: rect(1px 1px 1px 1px);clip: rect(1px, 1px, 1px, 1px);height: 1px;margin: -1px;overflow: hidden;padding: 0;position: absolute;width: 1px;}#sk-container-id-1 div.sk-estimator {font-family: monospace;background-color: #f0f8ff;border: 1px dotted black;border-radius: 0.25em;box-sizing: border-box;margin-bottom: 0.5em;}#sk-container-id-1 div.sk-estimator:hover {background-color: #d4ebff;}#sk-container-id-1 div.sk-parallel-item::after {content: \"\";width: 100%;border-bottom: 1px solid gray;flex-grow: 1;}#sk-container-id-1 div.sk-label:hover label.sk-toggleable__label {background-color: #d4ebff;}#sk-container-id-1 div.sk-serial::before {content: \"\";position: absolute;border-left: 1px solid gray;box-sizing: border-box;top: 0;bottom: 0;left: 50%;z-index: 0;}#sk-container-id-1 div.sk-serial {display: flex;flex-direction: column;align-items: center;background-color: white;padding-right: 0.2em;padding-left: 0.2em;position: relative;}#sk-container-id-1 div.sk-item {position: relative;z-index: 1;}#sk-container-id-1 div.sk-parallel {display: flex;align-items: stretch;justify-content: center;background-color: white;position: relative;}#sk-container-id-1 div.sk-item::before, #sk-container-id-1 div.sk-parallel-item::before {content: \"\";position: absolute;border-left: 1px solid gray;box-sizing: border-box;top: 0;bottom: 0;left: 50%;z-index: -1;}#sk-container-id-1 div.sk-parallel-item {display: flex;flex-direction: column;z-index: 1;position: relative;background-color: white;}#sk-container-id-1 div.sk-parallel-item:first-child::after {align-self: flex-end;width: 50%;}#sk-container-id-1 div.sk-parallel-item:last-child::after {align-self: flex-start;width: 50%;}#sk-container-id-1 div.sk-parallel-item:only-child::after {width: 0;}#sk-container-id-1 div.sk-dashed-wrapped {border: 1px dashed gray;margin: 0 0.4em 0.5em 0.4em;box-sizing: border-box;padding-bottom: 0.4em;background-color: white;}#sk-container-id-1 div.sk-label label {font-family: monospace;font-weight: bold;display: inline-block;line-height: 1.2em;}#sk-container-id-1 div.sk-label-container {text-align: center;}#sk-container-id-1 div.sk-container {/* jupyter's `normalize.less` sets `[hidden] { display: none; }` but bootstrap.min.css set `[hidden] { display: none !important; }` so we also need the `!important` here to be able to override the default hidden behavior on the sphinx rendered scikit-learn.org. See: https://github.com/scikit-learn/scikit-learn/issues/21755 */display: inline-block !important;position: relative;}#sk-container-id-1 div.sk-text-repr-fallback {display: none;}</style><div id=\"sk-container-id-1\" class=\"sk-top-container\"><div class=\"sk-text-repr-fallback\"><pre>Pipeline(steps=[(&#x27;bow&#x27;,\n",
       "                 CountVectorizer(analyzer=&lt;function process_txt at 0x151045280&gt;)),\n",
       "                (&#x27;tfidf&#x27;, TfidfTransformer()),\n",
       "                (&#x27;classifier&#x27;, MultinomialNB())])</pre><b>In a Jupyter environment, please rerun this cell to show the HTML representation or trust the notebook. <br />On GitHub, the HTML representation is unable to render, please try loading this page with nbviewer.org.</b></div><div class=\"sk-container\" hidden><div class=\"sk-item sk-dashed-wrapped\"><div class=\"sk-label-container\"><div class=\"sk-label sk-toggleable\"><input class=\"sk-toggleable__control sk-hidden--visually\" id=\"sk-estimator-id-1\" type=\"checkbox\" ><label for=\"sk-estimator-id-1\" class=\"sk-toggleable__label sk-toggleable__label-arrow\">Pipeline</label><div class=\"sk-toggleable__content\"><pre>Pipeline(steps=[(&#x27;bow&#x27;,\n",
       "                 CountVectorizer(analyzer=&lt;function process_txt at 0x151045280&gt;)),\n",
       "                (&#x27;tfidf&#x27;, TfidfTransformer()),\n",
       "                (&#x27;classifier&#x27;, MultinomialNB())])</pre></div></div></div><div class=\"sk-serial\"><div class=\"sk-item\"><div class=\"sk-estimator sk-toggleable\"><input class=\"sk-toggleable__control sk-hidden--visually\" id=\"sk-estimator-id-2\" type=\"checkbox\" ><label for=\"sk-estimator-id-2\" class=\"sk-toggleable__label sk-toggleable__label-arrow\">CountVectorizer</label><div class=\"sk-toggleable__content\"><pre>CountVectorizer(analyzer=&lt;function process_txt at 0x151045280&gt;)</pre></div></div></div><div class=\"sk-item\"><div class=\"sk-estimator sk-toggleable\"><input class=\"sk-toggleable__control sk-hidden--visually\" id=\"sk-estimator-id-3\" type=\"checkbox\" ><label for=\"sk-estimator-id-3\" class=\"sk-toggleable__label sk-toggleable__label-arrow\">TfidfTransformer</label><div class=\"sk-toggleable__content\"><pre>TfidfTransformer()</pre></div></div></div><div class=\"sk-item\"><div class=\"sk-estimator sk-toggleable\"><input class=\"sk-toggleable__control sk-hidden--visually\" id=\"sk-estimator-id-4\" type=\"checkbox\" ><label for=\"sk-estimator-id-4\" class=\"sk-toggleable__label sk-toggleable__label-arrow\">MultinomialNB</label><div class=\"sk-toggleable__content\"><pre>MultinomialNB()</pre></div></div></div></div></div></div></div>"
      ],
      "text/plain": [
       "Pipeline(steps=[('bow',\n",
       "                 CountVectorizer(analyzer=<function process_txt at 0x151045280>)),\n",
       "                ('tfidf', TfidfTransformer()),\n",
       "                ('classifier', MultinomialNB())])"
      ]
     },
     "execution_count": 38,
     "metadata": {},
     "output_type": "execute_result"
    }
   ],
   "source": [
    "pipeline.fit(msg_train,label_train)"
   ]
  },
  {
   "cell_type": "markdown",
   "metadata": {},
   "source": [
    "## What the Code Does:\n",
    "\n",
    "### Training the Pipeline:\n",
    "\n",
    "- The fit method starts by passing the msg_train data through the pipeline:\n",
    "\t- 1.\tCountVectorizer: Converts the raw text messages in msg_train into a bag-of-words representation (i.e., a matrix of token counts).\n",
    "\t- 2.\tTfidfTransformer: Converts the bag-of-words matrix into a TF-IDF matrix, which scales the word counts by their importance.\n",
    "\t- 3.\tMultinomialNB: Trains the Naive Bayes classifier on the TF-IDF matrix using the corresponding labels from label_train.\n",
    "\n",
    "### Result:\n",
    "\n",
    "- After this process, the pipeline’s model is trained and ready to make predictions. The model has learned patterns in the training data that it can use to classify new, unseen messages."
   ]
  },
  {
   "cell_type": "code",
   "execution_count": 39,
   "metadata": {},
   "outputs": [
    {
     "name": "stdout",
     "output_type": "stream",
     "text": [
      "              precision    recall  f1-score   support\n",
      "\n",
      "         ham       1.00      0.96      0.98      1009\n",
      "        spam       0.74      1.00      0.85       106\n",
      "\n",
      "    accuracy                           0.97      1115\n",
      "   macro avg       0.87      0.98      0.92      1115\n",
      "weighted avg       0.98      0.97      0.97      1115\n",
      "\n"
     ]
    }
   ],
   "source": [
    "predictions = pipeline.predict(msg_test)\n",
    "print(classification_report(predictions,label_test))"
   ]
  },
  {
   "cell_type": "markdown",
   "metadata": {},
   "source": [
    "## Why This is Important:\n",
    "\n",
    "- Model Training: This step is crucial because it’s where the model learns from the training data. The quality of this training will determine how accurately the model can classify new messages.\n",
    "\n",
    "- Automated Workflow: The use of a pipeline ensures that all preprocessing steps (like vectorization and TF-IDF transformation) are consistently applied to the training data, which is essential for building a robust model.\n"
   ]
  }
 ],
 "metadata": {
  "kernelspec": {
   "display_name": "Python 3 (ipykernel)",
   "language": "python",
   "name": "python3"
  },
  "language_info": {
   "codemirror_mode": {
    "name": "ipython",
    "version": 3
   },
   "file_extension": ".py",
   "mimetype": "text/x-python",
   "name": "python",
   "nbconvert_exporter": "python",
   "pygments_lexer": "ipython3",
   "version": "3.12.5"
  }
 },
 "nbformat": 4,
 "nbformat_minor": 4
}
